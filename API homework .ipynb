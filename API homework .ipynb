{
 "cells": [
  {
   "cell_type": "code",
   "execution_count": 1,
   "metadata": {},
   "outputs": [],
   "source": [
    "import os\n",
    "import requests\n",
    "import pandas as pd\n",
    "from dotenv import load_dotenv\n",
    "import alpaca_trade_api as tradeapi\n",
    "from MCForecastTools import MCSimulation\n",
    "\n",
    "%matplotlib inline"
   ]
  },
  {
   "cell_type": "code",
   "execution_count": 2,
   "metadata": {},
   "outputs": [
    {
     "data": {
      "text/plain": [
       "True"
      ]
     },
     "execution_count": 2,
     "metadata": {},
     "output_type": "execute_result"
    }
   ],
   "source": [
    "load_dotenv()"
   ]
  },
  {
   "cell_type": "code",
   "execution_count": null,
   "metadata": {},
   "outputs": [],
   "source": []
  },
  {
   "cell_type": "code",
   "execution_count": 3,
   "metadata": {},
   "outputs": [],
   "source": [
    "### Part 1"
   ]
  },
  {
   "cell_type": "code",
   "execution_count": null,
   "metadata": {},
   "outputs": [],
   "source": []
  },
  {
   "cell_type": "code",
   "execution_count": 4,
   "metadata": {},
   "outputs": [],
   "source": [
    "btc = 1.2\n",
    "eth = 5.3\n",
    "avg_income = 12000"
   ]
  },
  {
   "cell_type": "code",
   "execution_count": 5,
   "metadata": {},
   "outputs": [],
   "source": [
    "btc_url = \"https://api.alternative.me/v2/ticker/Bitcoin/?convert=CAD\"\n",
    "eth_url = \"https://api.alternative.me/v2/ticker/Ethereum/?convert=CAD\""
   ]
  },
  {
   "cell_type": "code",
   "execution_count": 6,
   "metadata": {},
   "outputs": [],
   "source": [
    "btc_response = requests.get(btc_url)"
   ]
  },
  {
   "cell_type": "code",
   "execution_count": 7,
   "metadata": {},
   "outputs": [],
   "source": [
    "eth_reponse = requests.get(eth_url)"
   ]
  },
  {
   "cell_type": "code",
   "execution_count": 8,
   "metadata": {
    "scrolled": true
   },
   "outputs": [
    {
     "data": {
      "text/plain": [
       "{'data': {'1': {'id': 1,\n",
       "   'name': 'Bitcoin',\n",
       "   'symbol': 'BTC',\n",
       "   'website_slug': 'bitcoin',\n",
       "   'rank': 1,\n",
       "   'circulating_supply': 18710018,\n",
       "   'total_supply': 18710018,\n",
       "   'max_supply': 21000000,\n",
       "   'quotes': {'USD': {'price': 50731.0,\n",
       "     'volume_24h': 66317260618,\n",
       "     'market_cap': 949178076314,\n",
       "     'percentage_change_1h': -0.163358732479745,\n",
       "     'percentage_change_24h': 4.90556405890861,\n",
       "     'percentage_change_7d': -10.2229345338857,\n",
       "     'percent_change_1h': -0.163358732479745,\n",
       "     'percent_change_24h': 4.90556405890861,\n",
       "     'percent_change_7d': -10.2229345338857},\n",
       "    'CAD': {'price': 61491.0451,\n",
       "     'volume_24h': 80383151595.0778,\n",
       "     'market_cap': 1150498746300.2,\n",
       "     'percent_change_1h': -0.163358732479745,\n",
       "     'percent_change_24h': 4.90556405890861,\n",
       "     'percent_change_7d': -10.2229345338857}},\n",
       "   'last_updated': 1621015119}},\n",
       " 'metadata': {'timestamp': 1621015119,\n",
       "  'num_cryptocurrencies': 1301,\n",
       "  'error': None}}"
      ]
     },
     "execution_count": 8,
     "metadata": {},
     "output_type": "execute_result"
    }
   ],
   "source": [
    "btc_response.json()"
   ]
  },
  {
   "cell_type": "code",
   "execution_count": 9,
   "metadata": {},
   "outputs": [
    {
     "data": {
      "text/plain": [
       "50731.0"
      ]
     },
     "execution_count": 9,
     "metadata": {},
     "output_type": "execute_result"
    }
   ],
   "source": [
    "btc_price = btc_response.json()['data']['1']['quotes']['USD']['price']\n",
    "btc_price"
   ]
  },
  {
   "cell_type": "code",
   "execution_count": 10,
   "metadata": {},
   "outputs": [
    {
     "data": {
      "text/plain": [
       "{'data': {'1027': {'id': 1027,\n",
       "   'name': 'Ethereum',\n",
       "   'symbol': 'ETH',\n",
       "   'website_slug': 'ethereum',\n",
       "   'rank': 2,\n",
       "   'circulating_supply': 115873105,\n",
       "   'total_supply': 115873105,\n",
       "   'max_supply': 0,\n",
       "   'quotes': {'USD': {'price': 4113.4,\n",
       "     'volume_24h': 70123984327,\n",
       "     'market_cap': 477787401396,\n",
       "     'percentage_change_1h': -0.138546396061655,\n",
       "     'percentage_change_24h': 9.67637347950515,\n",
       "     'percentage_change_7d': 17.6912059361776,\n",
       "     'percent_change_1h': -0.138546396061655,\n",
       "     'percent_change_24h': 9.67637347950515,\n",
       "     'percent_change_7d': 17.6912059361776},\n",
       "    'CAD': {'price': 4985.85214,\n",
       "     'volume_24h': 84997281402.7567,\n",
       "     'market_cap': 579126109232.091,\n",
       "     'percent_change_1h': -0.138546396061655,\n",
       "     'percent_change_24h': 9.67637347950515,\n",
       "     'percent_change_7d': 17.6912059361776}},\n",
       "   'last_updated': 1621015090}},\n",
       " 'metadata': {'timestamp': 1621015090,\n",
       "  'num_cryptocurrencies': 1301,\n",
       "  'error': None}}"
      ]
     },
     "execution_count": 10,
     "metadata": {},
     "output_type": "execute_result"
    }
   ],
   "source": [
    "eth_reponse.json()"
   ]
  },
  {
   "cell_type": "code",
   "execution_count": 11,
   "metadata": {},
   "outputs": [
    {
     "data": {
      "text/plain": [
       "4113.4"
      ]
     },
     "execution_count": 11,
     "metadata": {},
     "output_type": "execute_result"
    }
   ],
   "source": [
    "eth_price = eth_reponse.json()['data']['1027']['quotes']['USD']['price']\n",
    "eth_price"
   ]
  },
  {
   "cell_type": "code",
   "execution_count": 12,
   "metadata": {},
   "outputs": [
    {
     "data": {
      "text/plain": [
       "60877.2"
      ]
     },
     "execution_count": 12,
     "metadata": {},
     "output_type": "execute_result"
    }
   ],
   "source": [
    "btc_value = btc_price * btc\n",
    "btc_value"
   ]
  },
  {
   "cell_type": "code",
   "execution_count": 13,
   "metadata": {},
   "outputs": [
    {
     "data": {
      "text/plain": [
       "21801.019999999997"
      ]
     },
     "execution_count": 13,
     "metadata": {},
     "output_type": "execute_result"
    }
   ],
   "source": [
    "eth_value = eth_price * eth\n",
    "eth_value"
   ]
  },
  {
   "cell_type": "code",
   "execution_count": 14,
   "metadata": {},
   "outputs": [],
   "source": [
    "total_crypto_value = eth_value + btc_value"
   ]
  },
  {
   "cell_type": "code",
   "execution_count": 15,
   "metadata": {},
   "outputs": [
    {
     "name": "stdout",
     "output_type": "stream",
     "text": [
      "The current value of your 1.2 BTC is $60877.2\n",
      "The current value of your 5.3 ETH is $21801.019999999997\n",
      "The total value of your 1.2 BTC and 5.3 ETH is $82678.22\n"
     ]
    }
   ],
   "source": [
    "print(f\"The current value of your {btc} BTC is ${btc_value}\")\n",
    "print(f\"The current value of your {eth} ETH is ${eth_value}\")\n",
    "print(f\"The total value of your {btc} BTC and {eth} ETH is ${total_crypto_value}\")"
   ]
  },
  {
   "cell_type": "code",
   "execution_count": null,
   "metadata": {},
   "outputs": [],
   "source": []
  },
  {
   "cell_type": "code",
   "execution_count": null,
   "metadata": {},
   "outputs": [],
   "source": []
  },
  {
   "cell_type": "code",
   "execution_count": null,
   "metadata": {},
   "outputs": [],
   "source": []
  },
  {
   "cell_type": "code",
   "execution_count": null,
   "metadata": {},
   "outputs": [],
   "source": []
  },
  {
   "cell_type": "code",
   "execution_count": null,
   "metadata": {},
   "outputs": [],
   "source": []
  },
  {
   "cell_type": "code",
   "execution_count": 16,
   "metadata": {},
   "outputs": [],
   "source": [
    "stocks_spy = 50\n",
    "bonds_agg = 200"
   ]
  },
  {
   "cell_type": "code",
   "execution_count": 17,
   "metadata": {},
   "outputs": [],
   "source": [
    "alpaca_api_key = os.getenv('alpaca_api_key')\n",
    "alpaca_api_secret= os.getenv('alpaca_api_secret_key')"
   ]
  },
  {
   "cell_type": "code",
   "execution_count": 18,
   "metadata": {},
   "outputs": [],
   "source": [
    "alpaca = tradeapi.REST(alpaca_api_key,alpaca_api_secret)"
   ]
  },
  {
   "cell_type": "code",
   "execution_count": 19,
   "metadata": {},
   "outputs": [],
   "source": [
    "start = pd.Timestamp('2021-01-01', tz = 'US/Pacific').isoformat()\n",
    "end = pd.Timestamp('2021-05-10', tz = 'US/Pacific').isoformat()\n",
    "ticker = ['AGG', 'SPY']\n",
    "timeframe = '1D'"
   ]
  },
  {
   "cell_type": "code",
   "execution_count": 20,
   "metadata": {},
   "outputs": [
    {
     "data": {
      "text/html": [
       "<div>\n",
       "<style scoped>\n",
       "    .dataframe tbody tr th:only-of-type {\n",
       "        vertical-align: middle;\n",
       "    }\n",
       "\n",
       "    .dataframe tbody tr th {\n",
       "        vertical-align: top;\n",
       "    }\n",
       "\n",
       "    .dataframe thead tr th {\n",
       "        text-align: left;\n",
       "    }\n",
       "\n",
       "    .dataframe thead tr:last-of-type th {\n",
       "        text-align: right;\n",
       "    }\n",
       "</style>\n",
       "<table border=\"1\" class=\"dataframe\">\n",
       "  <thead>\n",
       "    <tr>\n",
       "      <th></th>\n",
       "      <th colspan=\"5\" halign=\"left\">AGG</th>\n",
       "      <th colspan=\"5\" halign=\"left\">SPY</th>\n",
       "    </tr>\n",
       "    <tr>\n",
       "      <th></th>\n",
       "      <th>open</th>\n",
       "      <th>high</th>\n",
       "      <th>low</th>\n",
       "      <th>close</th>\n",
       "      <th>volume</th>\n",
       "      <th>open</th>\n",
       "      <th>high</th>\n",
       "      <th>low</th>\n",
       "      <th>close</th>\n",
       "      <th>volume</th>\n",
       "    </tr>\n",
       "    <tr>\n",
       "      <th>time</th>\n",
       "      <th></th>\n",
       "      <th></th>\n",
       "      <th></th>\n",
       "      <th></th>\n",
       "      <th></th>\n",
       "      <th></th>\n",
       "      <th></th>\n",
       "      <th></th>\n",
       "      <th></th>\n",
       "      <th></th>\n",
       "    </tr>\n",
       "  </thead>\n",
       "  <tbody>\n",
       "    <tr>\n",
       "      <th>2021-01-04 00:00:00-05:00</th>\n",
       "      <td>118.08</td>\n",
       "      <td>118.1400</td>\n",
       "      <td>117.9850</td>\n",
       "      <td>118.0400</td>\n",
       "      <td>6211938</td>\n",
       "      <td>375.31</td>\n",
       "      <td>375.450</td>\n",
       "      <td>364.820</td>\n",
       "      <td>368.85</td>\n",
       "      <td>92938087</td>\n",
       "    </tr>\n",
       "    <tr>\n",
       "      <th>2021-01-05 00:00:00-05:00</th>\n",
       "      <td>118.06</td>\n",
       "      <td>118.0600</td>\n",
       "      <td>117.7500</td>\n",
       "      <td>117.9150</td>\n",
       "      <td>5915389</td>\n",
       "      <td>368.10</td>\n",
       "      <td>372.500</td>\n",
       "      <td>368.050</td>\n",
       "      <td>371.32</td>\n",
       "      <td>53668865</td>\n",
       "    </tr>\n",
       "    <tr>\n",
       "      <th>2021-01-06 00:00:00-05:00</th>\n",
       "      <td>117.90</td>\n",
       "      <td>117.9000</td>\n",
       "      <td>117.1500</td>\n",
       "      <td>117.3600</td>\n",
       "      <td>8587136</td>\n",
       "      <td>369.71</td>\n",
       "      <td>376.980</td>\n",
       "      <td>369.120</td>\n",
       "      <td>373.53</td>\n",
       "      <td>91989131</td>\n",
       "    </tr>\n",
       "    <tr>\n",
       "      <th>2021-01-07 00:00:00-05:00</th>\n",
       "      <td>117.13</td>\n",
       "      <td>117.2600</td>\n",
       "      <td>117.0667</td>\n",
       "      <td>117.2100</td>\n",
       "      <td>4949593</td>\n",
       "      <td>376.10</td>\n",
       "      <td>379.900</td>\n",
       "      <td>375.910</td>\n",
       "      <td>379.06</td>\n",
       "      <td>58862006</td>\n",
       "    </tr>\n",
       "    <tr>\n",
       "      <th>2021-01-08 00:00:00-05:00</th>\n",
       "      <td>117.18</td>\n",
       "      <td>117.3428</td>\n",
       "      <td>116.9800</td>\n",
       "      <td>117.0900</td>\n",
       "      <td>5580443</td>\n",
       "      <td>380.59</td>\n",
       "      <td>381.490</td>\n",
       "      <td>377.100</td>\n",
       "      <td>381.24</td>\n",
       "      <td>60275466</td>\n",
       "    </tr>\n",
       "    <tr>\n",
       "      <th>...</th>\n",
       "      <td>...</td>\n",
       "      <td>...</td>\n",
       "      <td>...</td>\n",
       "      <td>...</td>\n",
       "      <td>...</td>\n",
       "      <td>...</td>\n",
       "      <td>...</td>\n",
       "      <td>...</td>\n",
       "      <td>...</td>\n",
       "      <td>...</td>\n",
       "    </tr>\n",
       "    <tr>\n",
       "      <th>2021-05-04 00:00:00-04:00</th>\n",
       "      <td>114.55</td>\n",
       "      <td>114.7000</td>\n",
       "      <td>114.4100</td>\n",
       "      <td>114.5285</td>\n",
       "      <td>4677045</td>\n",
       "      <td>416.08</td>\n",
       "      <td>416.600</td>\n",
       "      <td>411.670</td>\n",
       "      <td>415.64</td>\n",
       "      <td>88484568</td>\n",
       "    </tr>\n",
       "    <tr>\n",
       "      <th>2021-05-05 00:00:00-04:00</th>\n",
       "      <td>114.45</td>\n",
       "      <td>114.6200</td>\n",
       "      <td>114.4222</td>\n",
       "      <td>114.6100</td>\n",
       "      <td>3861137</td>\n",
       "      <td>417.38</td>\n",
       "      <td>417.630</td>\n",
       "      <td>414.940</td>\n",
       "      <td>415.72</td>\n",
       "      <td>51316402</td>\n",
       "    </tr>\n",
       "    <tr>\n",
       "      <th>2021-05-06 00:00:00-04:00</th>\n",
       "      <td>114.55</td>\n",
       "      <td>114.7100</td>\n",
       "      <td>114.5300</td>\n",
       "      <td>114.6500</td>\n",
       "      <td>4557111</td>\n",
       "      <td>415.83</td>\n",
       "      <td>419.210</td>\n",
       "      <td>413.675</td>\n",
       "      <td>419.08</td>\n",
       "      <td>65397203</td>\n",
       "    </tr>\n",
       "    <tr>\n",
       "      <th>2021-05-07 00:00:00-04:00</th>\n",
       "      <td>114.85</td>\n",
       "      <td>114.9700</td>\n",
       "      <td>114.5700</td>\n",
       "      <td>114.6450</td>\n",
       "      <td>6812067</td>\n",
       "      <td>419.89</td>\n",
       "      <td>422.815</td>\n",
       "      <td>419.160</td>\n",
       "      <td>422.09</td>\n",
       "      <td>58002195</td>\n",
       "    </tr>\n",
       "    <tr>\n",
       "      <th>2021-05-10 00:00:00-04:00</th>\n",
       "      <td>114.61</td>\n",
       "      <td>114.7200</td>\n",
       "      <td>114.4000</td>\n",
       "      <td>114.4300</td>\n",
       "      <td>4737416</td>\n",
       "      <td>422.50</td>\n",
       "      <td>422.740</td>\n",
       "      <td>417.810</td>\n",
       "      <td>417.98</td>\n",
       "      <td>72076213</td>\n",
       "    </tr>\n",
       "  </tbody>\n",
       "</table>\n",
       "<p>88 rows × 10 columns</p>\n",
       "</div>"
      ],
      "text/plain": [
       "                              AGG                                         \\\n",
       "                             open      high       low     close   volume   \n",
       "time                                                                       \n",
       "2021-01-04 00:00:00-05:00  118.08  118.1400  117.9850  118.0400  6211938   \n",
       "2021-01-05 00:00:00-05:00  118.06  118.0600  117.7500  117.9150  5915389   \n",
       "2021-01-06 00:00:00-05:00  117.90  117.9000  117.1500  117.3600  8587136   \n",
       "2021-01-07 00:00:00-05:00  117.13  117.2600  117.0667  117.2100  4949593   \n",
       "2021-01-08 00:00:00-05:00  117.18  117.3428  116.9800  117.0900  5580443   \n",
       "...                           ...       ...       ...       ...      ...   \n",
       "2021-05-04 00:00:00-04:00  114.55  114.7000  114.4100  114.5285  4677045   \n",
       "2021-05-05 00:00:00-04:00  114.45  114.6200  114.4222  114.6100  3861137   \n",
       "2021-05-06 00:00:00-04:00  114.55  114.7100  114.5300  114.6500  4557111   \n",
       "2021-05-07 00:00:00-04:00  114.85  114.9700  114.5700  114.6450  6812067   \n",
       "2021-05-10 00:00:00-04:00  114.61  114.7200  114.4000  114.4300  4737416   \n",
       "\n",
       "                              SPY                                      \n",
       "                             open     high      low   close    volume  \n",
       "time                                                                   \n",
       "2021-01-04 00:00:00-05:00  375.31  375.450  364.820  368.85  92938087  \n",
       "2021-01-05 00:00:00-05:00  368.10  372.500  368.050  371.32  53668865  \n",
       "2021-01-06 00:00:00-05:00  369.71  376.980  369.120  373.53  91989131  \n",
       "2021-01-07 00:00:00-05:00  376.10  379.900  375.910  379.06  58862006  \n",
       "2021-01-08 00:00:00-05:00  380.59  381.490  377.100  381.24  60275466  \n",
       "...                           ...      ...      ...     ...       ...  \n",
       "2021-05-04 00:00:00-04:00  416.08  416.600  411.670  415.64  88484568  \n",
       "2021-05-05 00:00:00-04:00  417.38  417.630  414.940  415.72  51316402  \n",
       "2021-05-06 00:00:00-04:00  415.83  419.210  413.675  419.08  65397203  \n",
       "2021-05-07 00:00:00-04:00  419.89  422.815  419.160  422.09  58002195  \n",
       "2021-05-10 00:00:00-04:00  422.50  422.740  417.810  417.98  72076213  \n",
       "\n",
       "[88 rows x 10 columns]"
      ]
     },
     "execution_count": 20,
     "metadata": {},
     "output_type": "execute_result"
    }
   ],
   "source": [
    "ticker_df = alpaca.get_barset(ticker, timeframe, start = start, end = end).df\n",
    "ticker_df"
   ]
  },
  {
   "cell_type": "code",
   "execution_count": 21,
   "metadata": {},
   "outputs": [
    {
     "data": {
      "text/plain": [
       "114.43"
      ]
     },
     "execution_count": 21,
     "metadata": {},
     "output_type": "execute_result"
    }
   ],
   "source": [
    "agg_close_price = ticker_df.iloc[-1]['AGG']['close']\n",
    "agg_close_price"
   ]
  },
  {
   "cell_type": "code",
   "execution_count": 22,
   "metadata": {},
   "outputs": [
    {
     "data": {
      "text/plain": [
       "417.98"
      ]
     },
     "execution_count": 22,
     "metadata": {},
     "output_type": "execute_result"
    }
   ],
   "source": [
    "spy_close_price = ticker_df.iloc[-1]['SPY']['close']\n",
    "spy_close_price"
   ]
  },
  {
   "cell_type": "code",
   "execution_count": 23,
   "metadata": {},
   "outputs": [
    {
     "data": {
      "text/plain": [
       "22886.0"
      ]
     },
     "execution_count": 23,
     "metadata": {},
     "output_type": "execute_result"
    }
   ],
   "source": [
    "total_agg_value = bonds_agg * agg_close_price\n",
    "total_agg_value"
   ]
  },
  {
   "cell_type": "code",
   "execution_count": 24,
   "metadata": {},
   "outputs": [
    {
     "data": {
      "text/plain": [
       "20899.0"
      ]
     },
     "execution_count": 24,
     "metadata": {},
     "output_type": "execute_result"
    }
   ],
   "source": [
    "total_spy_value = stocks_spy * spy_close_price\n",
    "total_spy_value"
   ]
  },
  {
   "cell_type": "code",
   "execution_count": null,
   "metadata": {},
   "outputs": [],
   "source": []
  },
  {
   "cell_type": "code",
   "execution_count": 25,
   "metadata": {
    "scrolled": true
   },
   "outputs": [
    {
     "name": "stdout",
     "output_type": "stream",
     "text": [
      "Current AGG closing price: $114.43\n",
      "Current SPY closing price: $417.98\n"
     ]
    }
   ],
   "source": [
    "print(f\"Current AGG closing price: ${agg_close_price}\")\n",
    "print(f\"Current SPY closing price: ${spy_close_price}\")"
   ]
  },
  {
   "cell_type": "code",
   "execution_count": 26,
   "metadata": {},
   "outputs": [
    {
     "data": {
      "text/plain": [
       "43785.0"
      ]
     },
     "execution_count": 26,
     "metadata": {},
     "output_type": "execute_result"
    }
   ],
   "source": [
    "total_stocks_and_bonds = total_spy_value + total_agg_value\n",
    "total_stocks_and_bonds"
   ]
  },
  {
   "cell_type": "code",
   "execution_count": 27,
   "metadata": {},
   "outputs": [
    {
     "name": "stdout",
     "output_type": "stream",
     "text": [
      "The current value of your 200 AGG shares is $22886.0\n",
      "The current value of your 50 SPY shares is $20899.0\n",
      "The current value of your 200 AGG shares and 50 SPY shares is $43785.0\n"
     ]
    }
   ],
   "source": [
    "print(f\"The current value of your {bonds_agg} AGG shares is ${total_agg_value}\")\n",
    "print(f\"The current value of your {stocks_spy} SPY shares is ${total_spy_value}\")\n",
    "print(f\"The current value of your {bonds_agg} AGG shares and {stocks_spy} SPY shares is ${total_stocks_and_bonds}\")"
   ]
  },
  {
   "cell_type": "code",
   "execution_count": null,
   "metadata": {},
   "outputs": [],
   "source": []
  },
  {
   "cell_type": "code",
   "execution_count": null,
   "metadata": {},
   "outputs": [],
   "source": []
  },
  {
   "cell_type": "code",
   "execution_count": 28,
   "metadata": {},
   "outputs": [],
   "source": [
    "monthly_income = 12000\n",
    "ideal_emergency_fund = monthly_income * 3\n",
    "total_emergency_savings = total_crypto_value + total_stocks_and_bonds"
   ]
  },
  {
   "cell_type": "code",
   "execution_count": 29,
   "metadata": {},
   "outputs": [
    {
     "data": {
      "text/html": [
       "<div>\n",
       "<style scoped>\n",
       "    .dataframe tbody tr th:only-of-type {\n",
       "        vertical-align: middle;\n",
       "    }\n",
       "\n",
       "    .dataframe tbody tr th {\n",
       "        vertical-align: top;\n",
       "    }\n",
       "\n",
       "    .dataframe thead th {\n",
       "        text-align: right;\n",
       "    }\n",
       "</style>\n",
       "<table border=\"1\" class=\"dataframe\">\n",
       "  <thead>\n",
       "    <tr style=\"text-align: right;\">\n",
       "      <th></th>\n",
       "      <th>emergency savings</th>\n",
       "      <th>amount</th>\n",
       "    </tr>\n",
       "  </thead>\n",
       "  <tbody>\n",
       "    <tr>\n",
       "      <th>0</th>\n",
       "      <td>crypto</td>\n",
       "      <td>82678.22</td>\n",
       "    </tr>\n",
       "    <tr>\n",
       "      <th>1</th>\n",
       "      <td>stocks and bonds</td>\n",
       "      <td>43785.00</td>\n",
       "    </tr>\n",
       "  </tbody>\n",
       "</table>\n",
       "</div>"
      ],
      "text/plain": [
       "  emergency savings    amount\n",
       "0            crypto  82678.22\n",
       "1  stocks and bonds  43785.00"
      ]
     },
     "execution_count": 29,
     "metadata": {},
     "output_type": "execute_result"
    }
   ],
   "source": [
    "savings_df = pd.DataFrame({'emergency savings':['crypto', 'stocks and bonds'],'amount':[total_crypto_value, total_stocks_and_bonds]})\n",
    "savings_df"
   ]
  },
  {
   "cell_type": "code",
   "execution_count": null,
   "metadata": {},
   "outputs": [],
   "source": []
  },
  {
   "cell_type": "code",
   "execution_count": 30,
   "metadata": {},
   "outputs": [
    {
     "data": {
      "text/plain": [
       "<AxesSubplot:ylabel='amount'>"
      ]
     },
     "execution_count": 30,
     "metadata": {},
     "output_type": "execute_result"
    },
    {
     "data": {
      "image/png": "[encoded data removed]",
      "text/plain": [
       "<Figure size 432x288 with 1 Axes>"
      ]
     },
     "metadata": {},
     "output_type": "display_data"
    }
   ],
   "source": [
    "savings_df.plot.pie(y='amount', labels = ['Cyrpto', 'savings'])"
   ]
  },
  {
   "cell_type": "code",
   "execution_count": 31,
   "metadata": {},
   "outputs": [
    {
     "name": "stdout",
     "output_type": "stream",
     "text": [
      "Congratulations! You have enough money in your emergency fund.\n"
     ]
    }
   ],
   "source": [
    "if total_emergency_savings > ideal_emergency_fund:\n",
    "    print(\"Congratulations! You have enough money in your emergency fund.\")\n",
    "else:\n",
    "    print(\"You need to get a second job!!! NOW!!!!\")"
   ]
  },
  {
   "cell_type": "code",
   "execution_count": null,
   "metadata": {},
   "outputs": [],
   "source": []
  },
  {
   "cell_type": "code",
   "execution_count": null,
   "metadata": {},
   "outputs": [],
   "source": []
  },
  {
   "cell_type": "code",
   "execution_count": null,
   "metadata": {},
   "outputs": [],
   "source": [
    "###Part 2 "
   ]
  },
  {
   "cell_type": "code",
   "execution_count": null,
   "metadata": {},
   "outputs": [],
   "source": []
  },
  {
   "cell_type": "code",
   "execution_count": null,
   "metadata": {},
   "outputs": [],
   "source": []
  },
  {
   "cell_type": "code",
   "execution_count": 32,
   "metadata": {},
   "outputs": [
    {
     "data": {
      "text/html": [
       "<div>\n",
       "<style scoped>\n",
       "    .dataframe tbody tr th:only-of-type {\n",
       "        vertical-align: middle;\n",
       "    }\n",
       "\n",
       "    .dataframe tbody tr th {\n",
       "        vertical-align: top;\n",
       "    }\n",
       "\n",
       "    .dataframe thead tr th {\n",
       "        text-align: left;\n",
       "    }\n",
       "\n",
       "    .dataframe thead tr:last-of-type th {\n",
       "        text-align: right;\n",
       "    }\n",
       "</style>\n",
       "<table border=\"1\" class=\"dataframe\">\n",
       "  <thead>\n",
       "    <tr>\n",
       "      <th></th>\n",
       "      <th colspan=\"5\" halign=\"left\">AGG</th>\n",
       "      <th colspan=\"5\" halign=\"left\">SPY</th>\n",
       "    </tr>\n",
       "    <tr>\n",
       "      <th></th>\n",
       "      <th>open</th>\n",
       "      <th>high</th>\n",
       "      <th>low</th>\n",
       "      <th>close</th>\n",
       "      <th>volume</th>\n",
       "      <th>open</th>\n",
       "      <th>high</th>\n",
       "      <th>low</th>\n",
       "      <th>close</th>\n",
       "      <th>volume</th>\n",
       "    </tr>\n",
       "    <tr>\n",
       "      <th>time</th>\n",
       "      <th></th>\n",
       "      <th></th>\n",
       "      <th></th>\n",
       "      <th></th>\n",
       "      <th></th>\n",
       "      <th></th>\n",
       "      <th></th>\n",
       "      <th></th>\n",
       "      <th></th>\n",
       "      <th></th>\n",
       "    </tr>\n",
       "  </thead>\n",
       "  <tbody>\n",
       "    <tr>\n",
       "      <th>2017-05-18 00:00:00-04:00</th>\n",
       "      <td>109.54</td>\n",
       "      <td>109.6299</td>\n",
       "      <td>109.4433</td>\n",
       "      <td>109.5500</td>\n",
       "      <td>1873534.0</td>\n",
       "      <td>NaN</td>\n",
       "      <td>NaN</td>\n",
       "      <td>NaN</td>\n",
       "      <td>NaN</td>\n",
       "      <td>NaN</td>\n",
       "    </tr>\n",
       "    <tr>\n",
       "      <th>2017-05-19 00:00:00-04:00</th>\n",
       "      <td>109.51</td>\n",
       "      <td>109.5350</td>\n",
       "      <td>109.3520</td>\n",
       "      <td>109.5250</td>\n",
       "      <td>1345002.0</td>\n",
       "      <td>237.33</td>\n",
       "      <td>239.080</td>\n",
       "      <td>237.270</td>\n",
       "      <td>238.30</td>\n",
       "      <td>69366163.0</td>\n",
       "    </tr>\n",
       "    <tr>\n",
       "      <th>2017-05-22 00:00:00-04:00</th>\n",
       "      <td>109.43</td>\n",
       "      <td>109.4800</td>\n",
       "      <td>109.4000</td>\n",
       "      <td>109.4400</td>\n",
       "      <td>1199164.0</td>\n",
       "      <td>238.90</td>\n",
       "      <td>239.710</td>\n",
       "      <td>238.820</td>\n",
       "      <td>239.53</td>\n",
       "      <td>37630972.0</td>\n",
       "    </tr>\n",
       "    <tr>\n",
       "      <th>2017-05-23 00:00:00-04:00</th>\n",
       "      <td>109.50</td>\n",
       "      <td>109.5300</td>\n",
       "      <td>109.2100</td>\n",
       "      <td>109.2400</td>\n",
       "      <td>1194872.0</td>\n",
       "      <td>239.95</td>\n",
       "      <td>240.240</td>\n",
       "      <td>239.510</td>\n",
       "      <td>240.02</td>\n",
       "      <td>36771135.0</td>\n",
       "    </tr>\n",
       "    <tr>\n",
       "      <th>2017-05-24 00:00:00-04:00</th>\n",
       "      <td>109.25</td>\n",
       "      <td>109.5000</td>\n",
       "      <td>109.2115</td>\n",
       "      <td>109.4500</td>\n",
       "      <td>2325960.0</td>\n",
       "      <td>240.32</td>\n",
       "      <td>240.730</td>\n",
       "      <td>239.930</td>\n",
       "      <td>240.59</td>\n",
       "      <td>37423590.0</td>\n",
       "    </tr>\n",
       "    <tr>\n",
       "      <th>...</th>\n",
       "      <td>...</td>\n",
       "      <td>...</td>\n",
       "      <td>...</td>\n",
       "      <td>...</td>\n",
       "      <td>...</td>\n",
       "      <td>...</td>\n",
       "      <td>...</td>\n",
       "      <td>...</td>\n",
       "      <td>...</td>\n",
       "      <td>...</td>\n",
       "    </tr>\n",
       "    <tr>\n",
       "      <th>2021-05-04 00:00:00-04:00</th>\n",
       "      <td>114.55</td>\n",
       "      <td>114.7000</td>\n",
       "      <td>114.4100</td>\n",
       "      <td>114.5285</td>\n",
       "      <td>4677045.0</td>\n",
       "      <td>416.08</td>\n",
       "      <td>416.600</td>\n",
       "      <td>411.670</td>\n",
       "      <td>415.64</td>\n",
       "      <td>88484568.0</td>\n",
       "    </tr>\n",
       "    <tr>\n",
       "      <th>2021-05-05 00:00:00-04:00</th>\n",
       "      <td>114.45</td>\n",
       "      <td>114.6200</td>\n",
       "      <td>114.4222</td>\n",
       "      <td>114.6100</td>\n",
       "      <td>3861137.0</td>\n",
       "      <td>417.38</td>\n",
       "      <td>417.630</td>\n",
       "      <td>414.940</td>\n",
       "      <td>415.72</td>\n",
       "      <td>51316402.0</td>\n",
       "    </tr>\n",
       "    <tr>\n",
       "      <th>2021-05-06 00:00:00-04:00</th>\n",
       "      <td>114.55</td>\n",
       "      <td>114.7100</td>\n",
       "      <td>114.5300</td>\n",
       "      <td>114.6500</td>\n",
       "      <td>4557111.0</td>\n",
       "      <td>415.83</td>\n",
       "      <td>419.210</td>\n",
       "      <td>413.675</td>\n",
       "      <td>419.08</td>\n",
       "      <td>65397203.0</td>\n",
       "    </tr>\n",
       "    <tr>\n",
       "      <th>2021-05-07 00:00:00-04:00</th>\n",
       "      <td>114.85</td>\n",
       "      <td>114.9700</td>\n",
       "      <td>114.5700</td>\n",
       "      <td>114.6450</td>\n",
       "      <td>6812067.0</td>\n",
       "      <td>419.89</td>\n",
       "      <td>422.815</td>\n",
       "      <td>419.160</td>\n",
       "      <td>422.09</td>\n",
       "      <td>58002195.0</td>\n",
       "    </tr>\n",
       "    <tr>\n",
       "      <th>2021-05-10 00:00:00-04:00</th>\n",
       "      <td>114.61</td>\n",
       "      <td>114.7200</td>\n",
       "      <td>114.4000</td>\n",
       "      <td>114.4300</td>\n",
       "      <td>4737416.0</td>\n",
       "      <td>422.50</td>\n",
       "      <td>422.740</td>\n",
       "      <td>417.810</td>\n",
       "      <td>417.98</td>\n",
       "      <td>72076213.0</td>\n",
       "    </tr>\n",
       "  </tbody>\n",
       "</table>\n",
       "<p>1001 rows × 10 columns</p>\n",
       "</div>"
      ],
      "text/plain": [
       "                              AGG                                           \\\n",
       "                             open      high       low     close     volume   \n",
       "time                                                                         \n",
       "2017-05-18 00:00:00-04:00  109.54  109.6299  109.4433  109.5500  1873534.0   \n",
       "2017-05-19 00:00:00-04:00  109.51  109.5350  109.3520  109.5250  1345002.0   \n",
       "2017-05-22 00:00:00-04:00  109.43  109.4800  109.4000  109.4400  1199164.0   \n",
       "2017-05-23 00:00:00-04:00  109.50  109.5300  109.2100  109.2400  1194872.0   \n",
       "2017-05-24 00:00:00-04:00  109.25  109.5000  109.2115  109.4500  2325960.0   \n",
       "...                           ...       ...       ...       ...        ...   \n",
       "2021-05-04 00:00:00-04:00  114.55  114.7000  114.4100  114.5285  4677045.0   \n",
       "2021-05-05 00:00:00-04:00  114.45  114.6200  114.4222  114.6100  3861137.0   \n",
       "2021-05-06 00:00:00-04:00  114.55  114.7100  114.5300  114.6500  4557111.0   \n",
       "2021-05-07 00:00:00-04:00  114.85  114.9700  114.5700  114.6450  6812067.0   \n",
       "2021-05-10 00:00:00-04:00  114.61  114.7200  114.4000  114.4300  4737416.0   \n",
       "\n",
       "                              SPY                                        \n",
       "                             open     high      low   close      volume  \n",
       "time                                                                     \n",
       "2017-05-18 00:00:00-04:00     NaN      NaN      NaN     NaN         NaN  \n",
       "2017-05-19 00:00:00-04:00  237.33  239.080  237.270  238.30  69366163.0  \n",
       "2017-05-22 00:00:00-04:00  238.90  239.710  238.820  239.53  37630972.0  \n",
       "2017-05-23 00:00:00-04:00  239.95  240.240  239.510  240.02  36771135.0  \n",
       "2017-05-24 00:00:00-04:00  240.32  240.730  239.930  240.59  37423590.0  \n",
       "...                           ...      ...      ...     ...         ...  \n",
       "2021-05-04 00:00:00-04:00  416.08  416.600  411.670  415.64  88484568.0  \n",
       "2021-05-05 00:00:00-04:00  417.38  417.630  414.940  415.72  51316402.0  \n",
       "2021-05-06 00:00:00-04:00  415.83  419.210  413.675  419.08  65397203.0  \n",
       "2021-05-07 00:00:00-04:00  419.89  422.815  419.160  422.09  58002195.0  \n",
       "2021-05-10 00:00:00-04:00  422.50  422.740  417.810  417.98  72076213.0  \n",
       "\n",
       "[1001 rows x 10 columns]"
      ]
     },
     "execution_count": 32,
     "metadata": {},
     "output_type": "execute_result"
    }
   ],
   "source": [
    "api = tradeapi.REST(alpaca_api_key, alpaca_api_secret, api_version = \"v2\")\n",
    "\n",
    "timeframe = \"1D\"\n",
    "\n",
    "startdate = pd.Timestamp('2016-05-10', tz='America/New_York').isoformat()\n",
    "enddate = pd.Timestamp('2021-05-10', tz='America/New_York').isoformat()\n",
    "\n",
    "tickers = [\"SPY\",\"AGG\"]\n",
    "\n",
    "monte_ticker = api.get_barset(tickers, timeframe, start=startdate, end=enddate, limit=1000,).df\n",
    "monte_ticker"
   ]
  },
  {
   "cell_type": "code",
   "execution_count": 33,
   "metadata": {},
   "outputs": [],
   "source": [
    "from MCForecastTools import MCSimulation"
   ]
  },
  {
   "cell_type": "code",
   "execution_count": 34,
   "metadata": {},
   "outputs": [],
   "source": [
    "mc_fiveyear = MCSimulation(monte_ticker, [0.6,0.4], 500, 252*30)"
   ]
  },
  {
   "cell_type": "code",
   "execution_count": 35,
   "metadata": {},
   "outputs": [
    {
     "data": {
      "text/html": [
       "<div>\n",
       "<style scoped>\n",
       "    .dataframe tbody tr th:only-of-type {\n",
       "        vertical-align: middle;\n",
       "    }\n",
       "\n",
       "    .dataframe tbody tr th {\n",
       "        vertical-align: top;\n",
       "    }\n",
       "\n",
       "    .dataframe thead tr th {\n",
       "        text-align: left;\n",
       "    }\n",
       "\n",
       "    .dataframe thead tr:last-of-type th {\n",
       "        text-align: right;\n",
       "    }\n",
       "</style>\n",
       "<table border=\"1\" class=\"dataframe\">\n",
       "  <thead>\n",
       "    <tr>\n",
       "      <th></th>\n",
       "      <th colspan=\"6\" halign=\"left\">AGG</th>\n",
       "      <th colspan=\"6\" halign=\"left\">SPY</th>\n",
       "    </tr>\n",
       "    <tr>\n",
       "      <th></th>\n",
       "      <th>open</th>\n",
       "      <th>high</th>\n",
       "      <th>low</th>\n",
       "      <th>close</th>\n",
       "      <th>volume</th>\n",
       "      <th>daily_return</th>\n",
       "      <th>open</th>\n",
       "      <th>high</th>\n",
       "      <th>low</th>\n",
       "      <th>close</th>\n",
       "      <th>volume</th>\n",
       "      <th>daily_return</th>\n",
       "    </tr>\n",
       "    <tr>\n",
       "      <th>time</th>\n",
       "      <th></th>\n",
       "      <th></th>\n",
       "      <th></th>\n",
       "      <th></th>\n",
       "      <th></th>\n",
       "      <th></th>\n",
       "      <th></th>\n",
       "      <th></th>\n",
       "      <th></th>\n",
       "      <th></th>\n",
       "      <th></th>\n",
       "      <th></th>\n",
       "    </tr>\n",
       "  </thead>\n",
       "  <tbody>\n",
       "    <tr>\n",
       "      <th>2017-05-18 00:00:00-04:00</th>\n",
       "      <td>109.54</td>\n",
       "      <td>109.6299</td>\n",
       "      <td>109.4433</td>\n",
       "      <td>109.550</td>\n",
       "      <td>1873534.0</td>\n",
       "      <td>NaN</td>\n",
       "      <td>NaN</td>\n",
       "      <td>NaN</td>\n",
       "      <td>NaN</td>\n",
       "      <td>NaN</td>\n",
       "      <td>NaN</td>\n",
       "      <td>NaN</td>\n",
       "    </tr>\n",
       "    <tr>\n",
       "      <th>2017-05-19 00:00:00-04:00</th>\n",
       "      <td>109.51</td>\n",
       "      <td>109.5350</td>\n",
       "      <td>109.3520</td>\n",
       "      <td>109.525</td>\n",
       "      <td>1345002.0</td>\n",
       "      <td>-0.000228</td>\n",
       "      <td>237.33</td>\n",
       "      <td>239.08</td>\n",
       "      <td>237.27</td>\n",
       "      <td>238.30</td>\n",
       "      <td>69366163.0</td>\n",
       "      <td>NaN</td>\n",
       "    </tr>\n",
       "    <tr>\n",
       "      <th>2017-05-22 00:00:00-04:00</th>\n",
       "      <td>109.43</td>\n",
       "      <td>109.4800</td>\n",
       "      <td>109.4000</td>\n",
       "      <td>109.440</td>\n",
       "      <td>1199164.0</td>\n",
       "      <td>-0.000776</td>\n",
       "      <td>238.90</td>\n",
       "      <td>239.71</td>\n",
       "      <td>238.82</td>\n",
       "      <td>239.53</td>\n",
       "      <td>37630972.0</td>\n",
       "      <td>0.005162</td>\n",
       "    </tr>\n",
       "    <tr>\n",
       "      <th>2017-05-23 00:00:00-04:00</th>\n",
       "      <td>109.50</td>\n",
       "      <td>109.5300</td>\n",
       "      <td>109.2100</td>\n",
       "      <td>109.240</td>\n",
       "      <td>1194872.0</td>\n",
       "      <td>-0.001827</td>\n",
       "      <td>239.95</td>\n",
       "      <td>240.24</td>\n",
       "      <td>239.51</td>\n",
       "      <td>240.02</td>\n",
       "      <td>36771135.0</td>\n",
       "      <td>0.002046</td>\n",
       "    </tr>\n",
       "    <tr>\n",
       "      <th>2017-05-24 00:00:00-04:00</th>\n",
       "      <td>109.25</td>\n",
       "      <td>109.5000</td>\n",
       "      <td>109.2115</td>\n",
       "      <td>109.450</td>\n",
       "      <td>2325960.0</td>\n",
       "      <td>0.001922</td>\n",
       "      <td>240.32</td>\n",
       "      <td>240.73</td>\n",
       "      <td>239.93</td>\n",
       "      <td>240.59</td>\n",
       "      <td>37423590.0</td>\n",
       "      <td>0.002375</td>\n",
       "    </tr>\n",
       "  </tbody>\n",
       "</table>\n",
       "</div>"
      ],
      "text/plain": [
       "                              AGG                                          \\\n",
       "                             open      high       low    close     volume   \n",
       "time                                                                        \n",
       "2017-05-18 00:00:00-04:00  109.54  109.6299  109.4433  109.550  1873534.0   \n",
       "2017-05-19 00:00:00-04:00  109.51  109.5350  109.3520  109.525  1345002.0   \n",
       "2017-05-22 00:00:00-04:00  109.43  109.4800  109.4000  109.440  1199164.0   \n",
       "2017-05-23 00:00:00-04:00  109.50  109.5300  109.2100  109.240  1194872.0   \n",
       "2017-05-24 00:00:00-04:00  109.25  109.5000  109.2115  109.450  2325960.0   \n",
       "\n",
       "                                           SPY                          \\\n",
       "                          daily_return    open    high     low   close   \n",
       "time                                                                     \n",
       "2017-05-18 00:00:00-04:00          NaN     NaN     NaN     NaN     NaN   \n",
       "2017-05-19 00:00:00-04:00    -0.000228  237.33  239.08  237.27  238.30   \n",
       "2017-05-22 00:00:00-04:00    -0.000776  238.90  239.71  238.82  239.53   \n",
       "2017-05-23 00:00:00-04:00    -0.001827  239.95  240.24  239.51  240.02   \n",
       "2017-05-24 00:00:00-04:00     0.001922  240.32  240.73  239.93  240.59   \n",
       "\n",
       "                                                    \n",
       "                               volume daily_return  \n",
       "time                                                \n",
       "2017-05-18 00:00:00-04:00         NaN          NaN  \n",
       "2017-05-19 00:00:00-04:00  69366163.0          NaN  \n",
       "2017-05-22 00:00:00-04:00  37630972.0     0.005162  \n",
       "2017-05-23 00:00:00-04:00  36771135.0     0.002046  \n",
       "2017-05-24 00:00:00-04:00  37423590.0     0.002375  "
      ]
     },
     "execution_count": 35,
     "metadata": {},
     "output_type": "execute_result"
    }
   ],
   "source": [
    "mc_fiveyear.portfolio_data.head()"
   ]
  },
  {
   "cell_type": "code",
   "execution_count": 36,
   "metadata": {},
   "outputs": [
    {
     "name": "stdout",
     "output_type": "stream",
     "text": [
      "Running Monte Carlo simulation number 0.\n",
      "Running Monte Carlo simulation number 10.\n",
      "Running Monte Carlo simulation number 20.\n",
      "Running Monte Carlo simulation number 30.\n",
      "Running Monte Carlo simulation number 40.\n",
      "Running Monte Carlo simulation number 50.\n",
      "Running Monte Carlo simulation number 60.\n",
      "Running Monte Carlo simulation number 70.\n",
      "Running Monte Carlo simulation number 80.\n",
      "Running Monte Carlo simulation number 90.\n",
      "Running Monte Carlo simulation number 100.\n",
      "Running Monte Carlo simulation number 110.\n",
      "Running Monte Carlo simulation number 120.\n",
      "Running Monte Carlo simulation number 130.\n",
      "Running Monte Carlo simulation number 140.\n",
      "Running Monte Carlo simulation number 150.\n",
      "Running Monte Carlo simulation number 160.\n",
      "Running Monte Carlo simulation number 170.\n",
      "Running Monte Carlo simulation number 180.\n",
      "Running Monte Carlo simulation number 190.\n",
      "Running Monte Carlo simulation number 200.\n",
      "Running Monte Carlo simulation number 210.\n",
      "Running Monte Carlo simulation number 220.\n",
      "Running Monte Carlo simulation number 230.\n",
      "Running Monte Carlo simulation number 240.\n",
      "Running Monte Carlo simulation number 250.\n",
      "Running Monte Carlo simulation number 260.\n",
      "Running Monte Carlo simulation number 270.\n",
      "Running Monte Carlo simulation number 280.\n",
      "Running Monte Carlo simulation number 290.\n",
      "Running Monte Carlo simulation number 300.\n",
      "Running Monte Carlo simulation number 310.\n",
      "Running Monte Carlo simulation number 320.\n",
      "Running Monte Carlo simulation number 330.\n",
      "Running Monte Carlo simulation number 340.\n",
      "Running Monte Carlo simulation number 350.\n",
      "Running Monte Carlo simulation number 360.\n",
      "Running Monte Carlo simulation number 370.\n",
      "Running Monte Carlo simulation number 380.\n",
      "Running Monte Carlo simulation number 390.\n",
      "Running Monte Carlo simulation number 400.\n",
      "Running Monte Carlo simulation number 410.\n",
      "Running Monte Carlo simulation number 420.\n",
      "Running Monte Carlo simulation number 430.\n",
      "Running Monte Carlo simulation number 440.\n",
      "Running Monte Carlo simulation number 450.\n",
      "Running Monte Carlo simulation number 460.\n",
      "Running Monte Carlo simulation number 470.\n",
      "Running Monte Carlo simulation number 480.\n",
      "Running Monte Carlo simulation number 490.\n"
     ]
    },
    {
     "data": {
      "text/html": [
       "<div>\n",
       "<style scoped>\n",
       "    .dataframe tbody tr th:only-of-type {\n",
       "        vertical-align: middle;\n",
       "    }\n",
       "\n",
       "    .dataframe tbody tr th {\n",
       "        vertical-align: top;\n",
       "    }\n",
       "\n",
       "    .dataframe thead th {\n",
       "        text-align: right;\n",
       "    }\n",
       "</style>\n",
       "<table border=\"1\" class=\"dataframe\">\n",
       "  <thead>\n",
       "    <tr style=\"text-align: right;\">\n",
       "      <th></th>\n",
       "      <th>0</th>\n",
       "      <th>1</th>\n",
       "      <th>2</th>\n",
       "      <th>3</th>\n",
       "      <th>4</th>\n",
       "      <th>5</th>\n",
       "      <th>6</th>\n",
       "      <th>7</th>\n",
       "      <th>8</th>\n",
       "      <th>9</th>\n",
       "      <th>...</th>\n",
       "      <th>490</th>\n",
       "      <th>491</th>\n",
       "      <th>492</th>\n",
       "      <th>493</th>\n",
       "      <th>494</th>\n",
       "      <th>495</th>\n",
       "      <th>496</th>\n",
       "      <th>497</th>\n",
       "      <th>498</th>\n",
       "      <th>499</th>\n",
       "    </tr>\n",
       "  </thead>\n",
       "  <tbody>\n",
       "    <tr>\n",
       "      <th>0</th>\n",
       "      <td>1.000000</td>\n",
       "      <td>1.000000</td>\n",
       "      <td>1.000000</td>\n",
       "      <td>1.000000</td>\n",
       "      <td>1.000000</td>\n",
       "      <td>1.000000</td>\n",
       "      <td>1.000000</td>\n",
       "      <td>1.000000</td>\n",
       "      <td>1.000000</td>\n",
       "      <td>1.000000</td>\n",
       "      <td>...</td>\n",
       "      <td>1.000000</td>\n",
       "      <td>1.000000</td>\n",
       "      <td>1.000000</td>\n",
       "      <td>1.000000</td>\n",
       "      <td>1.000000</td>\n",
       "      <td>1.000000</td>\n",
       "      <td>1.000000</td>\n",
       "      <td>1.000000</td>\n",
       "      <td>1.000000</td>\n",
       "      <td>1.000000</td>\n",
       "    </tr>\n",
       "    <tr>\n",
       "      <th>1</th>\n",
       "      <td>1.000002</td>\n",
       "      <td>0.994275</td>\n",
       "      <td>1.004727</td>\n",
       "      <td>0.998649</td>\n",
       "      <td>1.000581</td>\n",
       "      <td>1.000595</td>\n",
       "      <td>1.004801</td>\n",
       "      <td>0.993870</td>\n",
       "      <td>0.997643</td>\n",
       "      <td>1.001387</td>\n",
       "      <td>...</td>\n",
       "      <td>1.007865</td>\n",
       "      <td>0.999008</td>\n",
       "      <td>0.999128</td>\n",
       "      <td>0.998171</td>\n",
       "      <td>0.996298</td>\n",
       "      <td>0.987039</td>\n",
       "      <td>0.994781</td>\n",
       "      <td>0.998046</td>\n",
       "      <td>1.002850</td>\n",
       "      <td>1.002869</td>\n",
       "    </tr>\n",
       "    <tr>\n",
       "      <th>2</th>\n",
       "      <td>1.014115</td>\n",
       "      <td>0.991532</td>\n",
       "      <td>1.002221</td>\n",
       "      <td>1.002634</td>\n",
       "      <td>0.996947</td>\n",
       "      <td>1.005344</td>\n",
       "      <td>1.009089</td>\n",
       "      <td>0.986306</td>\n",
       "      <td>0.994359</td>\n",
       "      <td>0.994964</td>\n",
       "      <td>...</td>\n",
       "      <td>1.012700</td>\n",
       "      <td>0.997825</td>\n",
       "      <td>1.000155</td>\n",
       "      <td>0.990724</td>\n",
       "      <td>1.007382</td>\n",
       "      <td>0.986679</td>\n",
       "      <td>0.993330</td>\n",
       "      <td>0.991414</td>\n",
       "      <td>1.008878</td>\n",
       "      <td>1.005994</td>\n",
       "    </tr>\n",
       "    <tr>\n",
       "      <th>3</th>\n",
       "      <td>1.026732</td>\n",
       "      <td>0.987910</td>\n",
       "      <td>0.999403</td>\n",
       "      <td>1.003475</td>\n",
       "      <td>0.995115</td>\n",
       "      <td>1.003495</td>\n",
       "      <td>1.000693</td>\n",
       "      <td>0.986309</td>\n",
       "      <td>0.998147</td>\n",
       "      <td>1.001420</td>\n",
       "      <td>...</td>\n",
       "      <td>1.007407</td>\n",
       "      <td>1.006901</td>\n",
       "      <td>0.998737</td>\n",
       "      <td>0.987578</td>\n",
       "      <td>1.013174</td>\n",
       "      <td>0.984848</td>\n",
       "      <td>1.000395</td>\n",
       "      <td>0.994991</td>\n",
       "      <td>1.004848</td>\n",
       "      <td>1.008981</td>\n",
       "    </tr>\n",
       "    <tr>\n",
       "      <th>4</th>\n",
       "      <td>1.024137</td>\n",
       "      <td>0.988169</td>\n",
       "      <td>0.995396</td>\n",
       "      <td>1.010158</td>\n",
       "      <td>1.006232</td>\n",
       "      <td>0.998704</td>\n",
       "      <td>1.007041</td>\n",
       "      <td>0.984725</td>\n",
       "      <td>0.985800</td>\n",
       "      <td>1.005558</td>\n",
       "      <td>...</td>\n",
       "      <td>1.009409</td>\n",
       "      <td>1.010175</td>\n",
       "      <td>1.004487</td>\n",
       "      <td>0.993086</td>\n",
       "      <td>1.014616</td>\n",
       "      <td>0.989265</td>\n",
       "      <td>1.002506</td>\n",
       "      <td>0.989930</td>\n",
       "      <td>1.007060</td>\n",
       "      <td>1.006533</td>\n",
       "    </tr>\n",
       "    <tr>\n",
       "      <th>...</th>\n",
       "      <td>...</td>\n",
       "      <td>...</td>\n",
       "      <td>...</td>\n",
       "      <td>...</td>\n",
       "      <td>...</td>\n",
       "      <td>...</td>\n",
       "      <td>...</td>\n",
       "      <td>...</td>\n",
       "      <td>...</td>\n",
       "      <td>...</td>\n",
       "      <td>...</td>\n",
       "      <td>...</td>\n",
       "      <td>...</td>\n",
       "      <td>...</td>\n",
       "      <td>...</td>\n",
       "      <td>...</td>\n",
       "      <td>...</td>\n",
       "      <td>...</td>\n",
       "      <td>...</td>\n",
       "      <td>...</td>\n",
       "      <td>...</td>\n",
       "    </tr>\n",
       "    <tr>\n",
       "      <th>7556</th>\n",
       "      <td>8.108205</td>\n",
       "      <td>9.839495</td>\n",
       "      <td>5.312170</td>\n",
       "      <td>8.224649</td>\n",
       "      <td>6.902174</td>\n",
       "      <td>3.698718</td>\n",
       "      <td>4.927066</td>\n",
       "      <td>17.983236</td>\n",
       "      <td>9.995180</td>\n",
       "      <td>7.731656</td>\n",
       "      <td>...</td>\n",
       "      <td>14.245539</td>\n",
       "      <td>6.836646</td>\n",
       "      <td>7.883121</td>\n",
       "      <td>8.243513</td>\n",
       "      <td>13.560817</td>\n",
       "      <td>4.621596</td>\n",
       "      <td>12.025828</td>\n",
       "      <td>9.181782</td>\n",
       "      <td>8.247986</td>\n",
       "      <td>11.955979</td>\n",
       "    </tr>\n",
       "    <tr>\n",
       "      <th>7557</th>\n",
       "      <td>8.106021</td>\n",
       "      <td>9.826971</td>\n",
       "      <td>5.295137</td>\n",
       "      <td>8.226069</td>\n",
       "      <td>6.905617</td>\n",
       "      <td>3.704067</td>\n",
       "      <td>4.946428</td>\n",
       "      <td>17.941040</td>\n",
       "      <td>10.042494</td>\n",
       "      <td>7.676336</td>\n",
       "      <td>...</td>\n",
       "      <td>14.224339</td>\n",
       "      <td>6.863969</td>\n",
       "      <td>7.943156</td>\n",
       "      <td>8.191024</td>\n",
       "      <td>13.658603</td>\n",
       "      <td>4.645604</td>\n",
       "      <td>12.123846</td>\n",
       "      <td>9.153433</td>\n",
       "      <td>8.309939</td>\n",
       "      <td>11.947575</td>\n",
       "    </tr>\n",
       "    <tr>\n",
       "      <th>7558</th>\n",
       "      <td>8.088408</td>\n",
       "      <td>9.807185</td>\n",
       "      <td>5.359842</td>\n",
       "      <td>8.174431</td>\n",
       "      <td>6.952572</td>\n",
       "      <td>3.711367</td>\n",
       "      <td>4.936637</td>\n",
       "      <td>17.973834</td>\n",
       "      <td>10.098244</td>\n",
       "      <td>7.629695</td>\n",
       "      <td>...</td>\n",
       "      <td>14.229645</td>\n",
       "      <td>6.904364</td>\n",
       "      <td>8.004916</td>\n",
       "      <td>8.177308</td>\n",
       "      <td>13.670510</td>\n",
       "      <td>4.655091</td>\n",
       "      <td>12.020524</td>\n",
       "      <td>9.169666</td>\n",
       "      <td>8.379202</td>\n",
       "      <td>12.004700</td>\n",
       "    </tr>\n",
       "    <tr>\n",
       "      <th>7559</th>\n",
       "      <td>8.042627</td>\n",
       "      <td>9.702226</td>\n",
       "      <td>5.382910</td>\n",
       "      <td>8.197449</td>\n",
       "      <td>6.944943</td>\n",
       "      <td>3.674409</td>\n",
       "      <td>4.931664</td>\n",
       "      <td>17.871292</td>\n",
       "      <td>10.061823</td>\n",
       "      <td>7.617596</td>\n",
       "      <td>...</td>\n",
       "      <td>14.192777</td>\n",
       "      <td>6.866830</td>\n",
       "      <td>7.971510</td>\n",
       "      <td>8.232670</td>\n",
       "      <td>13.684175</td>\n",
       "      <td>4.664928</td>\n",
       "      <td>12.045613</td>\n",
       "      <td>9.171336</td>\n",
       "      <td>8.390447</td>\n",
       "      <td>11.951444</td>\n",
       "    </tr>\n",
       "    <tr>\n",
       "      <th>7560</th>\n",
       "      <td>8.086049</td>\n",
       "      <td>9.639729</td>\n",
       "      <td>5.402475</td>\n",
       "      <td>8.200465</td>\n",
       "      <td>7.002527</td>\n",
       "      <td>3.694900</td>\n",
       "      <td>4.944132</td>\n",
       "      <td>17.688974</td>\n",
       "      <td>9.998578</td>\n",
       "      <td>7.621068</td>\n",
       "      <td>...</td>\n",
       "      <td>14.114375</td>\n",
       "      <td>6.884170</td>\n",
       "      <td>7.981457</td>\n",
       "      <td>8.235978</td>\n",
       "      <td>13.732591</td>\n",
       "      <td>4.667393</td>\n",
       "      <td>11.982085</td>\n",
       "      <td>9.136459</td>\n",
       "      <td>8.368005</td>\n",
       "      <td>12.016955</td>\n",
       "    </tr>\n",
       "  </tbody>\n",
       "</table>\n",
       "<p>7561 rows × 500 columns</p>\n",
       "</div>"
      ],
      "text/plain": [
       "           0         1         2         3         4         5         6    \\\n",
       "0     1.000000  1.000000  1.000000  1.000000  1.000000  1.000000  1.000000   \n",
       "1     1.000002  0.994275  1.004727  0.998649  1.000581  1.000595  1.004801   \n",
       "2     1.014115  0.991532  1.002221  1.002634  0.996947  1.005344  1.009089   \n",
       "3     1.026732  0.987910  0.999403  1.003475  0.995115  1.003495  1.000693   \n",
       "4     1.024137  0.988169  0.995396  1.010158  1.006232  0.998704  1.007041   \n",
       "...        ...       ...       ...       ...       ...       ...       ...   \n",
       "7556  8.108205  9.839495  5.312170  8.224649  6.902174  3.698718  4.927066   \n",
       "7557  8.106021  9.826971  5.295137  8.226069  6.905617  3.704067  4.946428   \n",
       "7558  8.088408  9.807185  5.359842  8.174431  6.952572  3.711367  4.936637   \n",
       "7559  8.042627  9.702226  5.382910  8.197449  6.944943  3.674409  4.931664   \n",
       "7560  8.086049  9.639729  5.402475  8.200465  7.002527  3.694900  4.944132   \n",
       "\n",
       "            7          8         9    ...        490       491       492  \\\n",
       "0      1.000000   1.000000  1.000000  ...   1.000000  1.000000  1.000000   \n",
       "1      0.993870   0.997643  1.001387  ...   1.007865  0.999008  0.999128   \n",
       "2      0.986306   0.994359  0.994964  ...   1.012700  0.997825  1.000155   \n",
       "3      0.986309   0.998147  1.001420  ...   1.007407  1.006901  0.998737   \n",
       "4      0.984725   0.985800  1.005558  ...   1.009409  1.010175  1.004487   \n",
       "...         ...        ...       ...  ...        ...       ...       ...   \n",
       "7556  17.983236   9.995180  7.731656  ...  14.245539  6.836646  7.883121   \n",
       "7557  17.941040  10.042494  7.676336  ...  14.224339  6.863969  7.943156   \n",
       "7558  17.973834  10.098244  7.629695  ...  14.229645  6.904364  8.004916   \n",
       "7559  17.871292  10.061823  7.617596  ...  14.192777  6.866830  7.971510   \n",
       "7560  17.688974   9.998578  7.621068  ...  14.114375  6.884170  7.981457   \n",
       "\n",
       "           493        494       495        496       497       498        499  \n",
       "0     1.000000   1.000000  1.000000   1.000000  1.000000  1.000000   1.000000  \n",
       "1     0.998171   0.996298  0.987039   0.994781  0.998046  1.002850   1.002869  \n",
       "2     0.990724   1.007382  0.986679   0.993330  0.991414  1.008878   1.005994  \n",
       "3     0.987578   1.013174  0.984848   1.000395  0.994991  1.004848   1.008981  \n",
       "4     0.993086   1.014616  0.989265   1.002506  0.989930  1.007060   1.006533  \n",
       "...        ...        ...       ...        ...       ...       ...        ...  \n",
       "7556  8.243513  13.560817  4.621596  12.025828  9.181782  8.247986  11.955979  \n",
       "7557  8.191024  13.658603  4.645604  12.123846  9.153433  8.309939  11.947575  \n",
       "7558  8.177308  13.670510  4.655091  12.020524  9.169666  8.379202  12.004700  \n",
       "7559  8.232670  13.684175  4.664928  12.045613  9.171336  8.390447  11.951444  \n",
       "7560  8.235978  13.732591  4.667393  11.982085  9.136459  8.368005  12.016955  \n",
       "\n",
       "[7561 rows x 500 columns]"
      ]
     },
     "execution_count": 36,
     "metadata": {},
     "output_type": "execute_result"
    }
   ],
   "source": [
    "mc_fiveyear.calc_cumulative_return()"
   ]
  },
  {
   "cell_type": "code",
   "execution_count": 37,
   "metadata": {},
   "outputs": [
    {
     "data": {
      "text/plain": [
       "<AxesSubplot:title={'center':'500 Simulations of Cumulative Portfolio Return Trajectories Over the Next 7560 Trading Days.'}>"
      ]
     },
     "execution_count": 37,
     "metadata": {},
     "output_type": "execute_result"
    },
    {
     "data": {
      "image/png": "[encoded data removed]",
      "text/plain": [
       "<Figure size 432x288 with 1 Axes>"
      ]
     },
     "metadata": {
      "needs_background": "light"
     },
     "output_type": "display_data"
    }
   ],
   "source": [
    "mc_fiveyear.plot_simulation()"
   ]
  },
  {
   "cell_type": "code",
   "execution_count": 38,
   "metadata": {},
   "outputs": [
    {
     "data": {
      "text/plain": [
       "<AxesSubplot:title={'center':'Distribution of Final Cumuluative Returns Across All 500 Simulations'}, ylabel='Frequency'>"
      ]
     },
     "execution_count": 38,
     "metadata": {},
     "output_type": "execute_result"
    },
    {
     "data": {
      "image/png": "[encoded data removed]",
      "text/plain": [
       "<Figure size 432x288 with 1 Axes>"
      ]
     },
     "metadata": {
      "needs_background": "light"
     },
     "output_type": "display_data"
    }
   ],
   "source": [
    "mc_fiveyear.plot_distribution()"
   ]
  },
  {
   "cell_type": "code",
   "execution_count": 39,
   "metadata": {},
   "outputs": [
    {
     "data": {
      "text/plain": [
       "count           500.000000\n",
       "mean              8.864402\n",
       "std               4.309893\n",
       "min               1.919926\n",
       "25%               5.652186\n",
       "50%               7.978247\n",
       "75%              11.009930\n",
       "max              26.166360\n",
       "95% CI Lower      3.297450\n",
       "95% CI Upper     20.356410\n",
       "Name: 7560, dtype: float64"
      ]
     },
     "execution_count": 39,
     "metadata": {},
     "output_type": "execute_result"
    }
   ],
   "source": [
    "mc_fiveyear.summarize_cumulative_return()"
   ]
  },
  {
   "cell_type": "code",
   "execution_count": 40,
   "metadata": {},
   "outputs": [
    {
     "data": {
      "text/plain": [
       "3.2974495626794917"
      ]
     },
     "execution_count": 40,
     "metadata": {},
     "output_type": "execute_result"
    }
   ],
   "source": [
    "ci_lower = mc_fiveyear.summarize_cumulative_return()[8]\n",
    "ci_lower"
   ]
  },
  {
   "cell_type": "code",
   "execution_count": 41,
   "metadata": {},
   "outputs": [
    {
     "data": {
      "text/plain": [
       "20.35641049764199"
      ]
     },
     "execution_count": 41,
     "metadata": {},
     "output_type": "execute_result"
    }
   ],
   "source": [
    "ci_upper = mc_fiveyear.summarize_cumulative_return()[9]\n",
    "ci_upper"
   ]
  },
  {
   "cell_type": "code",
   "execution_count": 42,
   "metadata": {},
   "outputs": [],
   "source": [
    "initial_investment = 20000\n",
    "ci_lower = ci_lower*initial_investment\n",
    "ci_upper = ci_upper*initial_investment"
   ]
  },
  {
   "cell_type": "code",
   "execution_count": 43,
   "metadata": {},
   "outputs": [
    {
     "data": {
      "text/plain": [
       "'there is 95% chance that my intital investment of 20000 is going to to be between 65948.99125358983 and 407128.20995283977, holding all else constant and given alpha level of 5%'"
      ]
     },
     "execution_count": 43,
     "metadata": {},
     "output_type": "execute_result"
    }
   ],
   "source": [
    "f\"there is 95% chance that my intital investment of {initial_investment} is going to to be between {ci_lower} and {ci_upper}, holding all else constant and given alpha level of 5%\""
   ]
  },
  {
   "cell_type": "code",
   "execution_count": null,
   "metadata": {},
   "outputs": [],
   "source": []
  },
  {
   "cell_type": "code",
   "execution_count": null,
   "metadata": {},
   "outputs": [],
   "source": []
  },
  {
   "cell_type": "code",
   "execution_count": null,
   "metadata": {},
   "outputs": [],
   "source": []
  },
  {
   "cell_type": "code",
   "execution_count": null,
   "metadata": {},
   "outputs": [],
   "source": []
  },
  {
   "cell_type": "code",
   "execution_count": null,
   "metadata": {},
   "outputs": [],
   "source": []
  },
  {
   "cell_type": "code",
   "execution_count": null,
   "metadata": {},
   "outputs": [],
   "source": []
  },
  {
   "cell_type": "code",
   "execution_count": null,
   "metadata": {},
   "outputs": [],
   "source": []
  }
 ],
 "metadata": {
  "kernelspec": {
   "display_name": "Python 3",
   "language": "python",
   "name": "python3"
  },
  "language_info": {
   "codemirror_mode": {
    "name": "ipython",
    "version": 3
   },
   "file_extension": ".py",
   "mimetype": "text/x-python",
   "name": "python",
   "nbconvert_exporter": "python",
   "pygments_lexer": "ipython3",
   "version": "3.8.5"
  }
 },
 "nbformat": 4,
 "nbformat_minor": 4
}
